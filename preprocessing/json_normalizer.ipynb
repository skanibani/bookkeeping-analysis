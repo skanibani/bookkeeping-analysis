{
 "metadata": {
  "orig_nbformat": 2,
  "kernelspec": {
   "name": "python3",
   "display_name": "Python 3",
   "language": "python"
  }
 },
 "nbformat": 4,
 "nbformat_minor": 2,
 "cells": [
  {
   "source": [
    "# JSON Normalizer"
   ],
   "cell_type": "markdown",
   "metadata": {}
  },
  {
   "source": [
    "import json\n",
    "import pandas as pd\n",
    "\n",
    "with open('data/coupling.json') as file_coupling:\n",
    "    import_coupling = json.load(file_coupling)\n",
    "\n",
    "coupling_incoming = pd.json_normalize(import_coupling, record_path='messages', meta=['filePath'])\n",
    "coupling_incoming.to_csv('../analysis/coupling/data/coupling.csv')"
   ],
   "cell_type": "code",
   "metadata": {},
   "execution_count": 22,
   "outputs": []
  }
 ]
}